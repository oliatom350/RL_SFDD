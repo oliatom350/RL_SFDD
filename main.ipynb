{
 "cells": [
  {
   "cell_type": "markdown",
   "id": "1b08b672",
   "metadata": {},
   "source": [
    "# Cuaderno main"
   ]
  }
 ],
 "metadata": {
  "language_info": {
   "name": "python"
  }
 },
 "nbformat": 4,
 "nbformat_minor": 5
}
