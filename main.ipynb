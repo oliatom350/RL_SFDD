{
  "cells": [
    {
      "cell_type": "markdown",
      "metadata": {
        "id": "view-in-github",
        "colab_type": "text"
      },
      "source": [
        "<a href=\"https://colab.research.google.com/github/oliatom350/RL_SFDD/blob/main/main.ipynb\" target=\"_parent\"><img src=\"https://colab.research.google.com/assets/colab-badge.svg\" alt=\"Open In Colab\"/></a>"
      ]
    },
    {
      "cell_type": "markdown",
      "id": "1b08b672",
      "metadata": {
        "id": "1b08b672"
      },
      "source": [
        "# Aprendizaje en entornos complejos\n",
        "\n",
        "Esta práctica tiene como objetivo principal conocer el entorno *Gymnasium* y estudiar en él algunos algoritmos básicos. En concreto se nos pide construir un agente de acuerdo con las instrucciones de la plataforma, y utilizar el diseño para crear distintas técnicas:\n",
        "- Métodos tabulares: Monte Carlo (on-policy y off-policy) y Diferencias temporales (SARSA, QLearning).\n",
        "- Control con Aproximaciones: SARSA semi-gradiente, Deep Q-Learning.\n",
        "\n",
        "Además, también se desarrolla un estudio comparativo entre ellos mediante las gráficas creadas en la anterior práctica, incluida una adicional en la que se muestra la duración de los episodios.\n",
        "\n",
        "# Estructura del repositorio\n",
        "\n",
        "En la estructura del respositorio podemos encontrar distintas partes:\n",
        "- /src: se encuentra el código creado y utilizado para diseñar los algoritmos que se piden en el enunciado.\n",
        "- Estudio_Metodos_Aproximaciones.ipynb: experimento que se corresponde con los métodos de aproximaciones.\n",
        "- Estudio_Metodos_Tabulares.ipynb: experimento relacionado con los métodos tabulares.\n",
        "- RL_SFDD.pdf: un archivo pdf que se corresponde con la memoria de la práctica."
      ]
    },
    {
      "cell_type": "markdown",
      "source": [
        "# Notebooks de la práctica\n",
        "\n",
        "- [🔗 Estudio_Metodos_Aproximaciones.ipynb](./Estudio_Metodos_Aproximaciones.ipynb)\n",
        "- [🔗 Estudio_Metodos_Tabulares.ipynb](./Estudio_Metodos_Tabulares.ipynb)"
      ],
      "metadata": {
        "id": "8YqDIVXfl8ZR"
      },
      "id": "8YqDIVXfl8ZR"
    }
  ],
  "metadata": {
    "language_info": {
      "name": "python"
    },
    "colab": {
      "provenance": [],
      "include_colab_link": true
    },
    "kernelspec": {
      "name": "python3",
      "display_name": "Python 3"
    }
  },
  "nbformat": 4,
  "nbformat_minor": 5
}