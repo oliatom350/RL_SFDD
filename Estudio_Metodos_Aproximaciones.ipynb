{
 "cells": [
  {
   "cell_type": "markdown",
   "id": "3c04a971",
   "metadata": {},
   "source": [
    "# Estudio de métodos de control con aproximaciones"
   ]
  },
  {
   "cell_type": "markdown",
   "id": "fb903893",
   "metadata": {},
   "source": [
    "Este estudio pertenece a la parte 2 de la práctica 1 correspondiente a la asignatura Extensiones de Machine Learning del máster de IA en la Universidad de Murcia.\n",
    "\n",
    "El grupo de alumnos que han realizado el estudio está conformado por:\n",
    "\n",
    "- Tomás Díaz Díaz\n",
    "- Jose Antonio Sánchez Fernández"
   ]
  },
  {
   "cell_type": "markdown",
   "id": "503bb053",
   "metadata": {},
   "source": [
    "## Introducción"
   ]
  },
  {
   "cell_type": "markdown",
   "id": "25fbae2b",
   "metadata": {},
   "source": [
    "Este notebook explora técnicas de aprendizaje por refuerzo que requieren aproximación de funciones:\n",
    "- SARSA semi-gradiente\n",
    "- Deep Q-Learning (DQN)\n",
    "\n",
    "Para la realización del estudio, se utilizará el entorno ***Gymnasium***. Ambas técnicas serán evaluadas en el escenario `CartPole-v1`, consistente en un carro que debe mantener una barra en equilibrio mediante el movimento a izquierda. El espacio de estados en este escenario es continuo y el espacio de acciones es discreto, como veremos durante la creación del entorno. Cada episodio del experimento termina cuando la barra cae o transcurren 500 pasos."
   ]
  },
  {
   "cell_type": "markdown",
   "id": "526f8064",
   "metadata": {},
   "source": [
    "## Imports y configuración"
   ]
  },
  {
   "cell_type": "code",
   "execution_count": null,
   "id": "5e8b8e4b",
   "metadata": {},
   "outputs": [],
   "source": [
    "import numpy as np\n",
    "import matplotlib.pyplot as plt\n",
    "import gymnasium as gym\n",
    "from collections import deque\n",
    "from tqdm import tqdm\n",
    "import random\n",
    "\n",
    "import torch\n",
    "import torch.nn as nn\n",
    "import torch.optim as optim\n",
    "\n",
    "import sys\n",
    "sys.path.append('src/')\n",
    "from AgentSARSASemiGradiente import AgentSARSASemiGradiente\n",
    "from AgentDeepQLearning import QNetwork, DQNAgent"
   ]
  },
  {
   "cell_type": "markdown",
   "id": "5c13d65d",
   "metadata": {},
   "source": [
    "## Preparación del entorno"
   ]
  },
  {
   "cell_type": "code",
   "execution_count": null,
   "id": "4ce12bad",
   "metadata": {},
   "outputs": [],
   "source": [
    "SEMILLA = 42\n",
    "env = gym.make(\"CartPole-v1\")\n",
    "state_dim = env.observation_space.shape[0]\n",
    "action_dim = env.action_space.n\n",
    "print(f\"Estado: {state_dim} dimensiones, Acciones: {action_dim}\")"
   ]
  },
  {
   "cell_type": "markdown",
   "id": "6b4d1a95",
   "metadata": {},
   "source": [
    "## Creación de agentes"
   ]
  },
  {
   "cell_type": "code",
   "execution_count": null,
   "id": "9298f508",
   "metadata": {},
   "outputs": [],
   "source": []
  },
  {
   "cell_type": "markdown",
   "id": "dd04883f",
   "metadata": {},
   "source": [
    "## Entrenamiento"
   ]
  },
  {
   "cell_type": "markdown",
   "id": "257baa49",
   "metadata": {},
   "source": [
    "## Evaluación"
   ]
  },
  {
   "cell_type": "markdown",
   "id": "264a6224",
   "metadata": {},
   "source": [
    "## Análisis de resultados"
   ]
  }
 ],
 "metadata": {
  "kernelspec": {
   "display_name": "gym_env",
   "language": "python",
   "name": "python3"
  },
  "language_info": {
   "name": "python",
   "version": "3.11.11"
  }
 },
 "nbformat": 4,
 "nbformat_minor": 5
}
